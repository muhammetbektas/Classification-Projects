{
 "cells": [
  {
   "cell_type": "markdown",
   "metadata": {},
   "source": [
    "## Customer Churn Prediction"
   ]
  },
  {
   "cell_type": "markdown",
   "metadata": {},
   "source": [
    "### Classification Project"
   ]
  },
  {
   "cell_type": "markdown",
   "metadata": {},
   "source": [
    "### Contents"
   ]
  },
  {
   "cell_type": "markdown",
   "metadata": {},
   "source": [
    "1.Introduction\n",
    "\n",
    "2.Goal of The Project\n",
    "\n",
    "3.General View of Data\n",
    "\n",
    "4.Data Cleaning\n",
    "\n",
    "5.Exploring the Data\n",
    "\n",
    "6.Building Models\n",
    "\n",
    "7.Results"
   ]
  },
  {
   "cell_type": "markdown",
   "metadata": {},
   "source": [
    "### 1. Introduction\n",
    "\n",
    "Classification is technique to categorize our data into a desired and distinct number of classes where we can assign label to each class. Classification is can be such as binary and multiclass. Our project is binary classsification.\n",
    "\n",
    "The target value is \"Churn\" column that we will predict in this project.\n",
    "Churn or customer attrition is simply defined as the number or percentage of customers lost within a specific period of time."
   ]
  },
  {
   "cell_type": "markdown",
   "metadata": {},
   "source": [
    "### 2. Goal of The Project\n",
    "Customer churn prediction is an essential requirement for a successful business recently. Statistically 59% of customers don’t return after a bad customer service experience. In addition, cost of acquiring new customers is quite high. For these reasons, I have decided to worked on this topic. Thus we will learn, how we can create a classification model and predict customer's attrition step by step."
   ]
  },
  {
   "cell_type": "markdown",
   "metadata": {},
   "source": [
    "### 3. General View of Data"
   ]
  },
  {
   "cell_type": "markdown",
   "metadata": {},
   "source": [
    "The data set includes information about:\n",
    "\n",
    "Customers who left within the last month – the column is called Churn.\n",
    "Services that each customer has signed up for – phone, multiple lines, internet, online security, online backup, device protection, tech support, and streaming TV and movies.\n",
    "Customer account information – how long they’ve been a customer, contract, payment method, paperless billing, monthly charges, and total charges.\n",
    "Demographic info about customers – gender, age range, and if they have partners and dependents."
   ]
  },
  {
   "cell_type": "code",
   "execution_count": 1,
   "metadata": {},
   "outputs": [],
   "source": [
    "import pandas as pd\n",
    "import numpy as np\n",
    "import seaborn as sns\n",
    "import matplotlib.pyplot as plt\n",
    "import collections\n",
    "import warnings\n",
    "warnings.filterwarnings('ignore')"
   ]
  },
  {
   "cell_type": "code",
   "execution_count": 2,
   "metadata": {
    "scrolled": false
   },
   "outputs": [
    {
     "data": {
      "text/html": [
       "<div>\n",
       "<style scoped>\n",
       "    .dataframe tbody tr th:only-of-type {\n",
       "        vertical-align: middle;\n",
       "    }\n",
       "\n",
       "    .dataframe tbody tr th {\n",
       "        vertical-align: top;\n",
       "    }\n",
       "\n",
       "    .dataframe thead th {\n",
       "        text-align: right;\n",
       "    }\n",
       "</style>\n",
       "<table border=\"1\" class=\"dataframe\">\n",
       "  <thead>\n",
       "    <tr style=\"text-align: right;\">\n",
       "      <th></th>\n",
       "      <th>customerID</th>\n",
       "      <th>gender</th>\n",
       "      <th>SeniorCitizen</th>\n",
       "      <th>Partner</th>\n",
       "      <th>Dependents</th>\n",
       "      <th>tenure</th>\n",
       "      <th>PhoneService</th>\n",
       "      <th>MultipleLines</th>\n",
       "      <th>InternetService</th>\n",
       "      <th>OnlineSecurity</th>\n",
       "      <th>...</th>\n",
       "      <th>DeviceProtection</th>\n",
       "      <th>TechSupport</th>\n",
       "      <th>StreamingTV</th>\n",
       "      <th>StreamingMovies</th>\n",
       "      <th>Contract</th>\n",
       "      <th>PaperlessBilling</th>\n",
       "      <th>PaymentMethod</th>\n",
       "      <th>MonthlyCharges</th>\n",
       "      <th>TotalCharges</th>\n",
       "      <th>Churn</th>\n",
       "    </tr>\n",
       "  </thead>\n",
       "  <tbody>\n",
       "    <tr>\n",
       "      <td>0</td>\n",
       "      <td>7590-VHVEG</td>\n",
       "      <td>Female</td>\n",
       "      <td>0</td>\n",
       "      <td>Yes</td>\n",
       "      <td>No</td>\n",
       "      <td>1</td>\n",
       "      <td>No</td>\n",
       "      <td>No phone service</td>\n",
       "      <td>DSL</td>\n",
       "      <td>No</td>\n",
       "      <td>...</td>\n",
       "      <td>No</td>\n",
       "      <td>No</td>\n",
       "      <td>No</td>\n",
       "      <td>No</td>\n",
       "      <td>Month-to-month</td>\n",
       "      <td>Yes</td>\n",
       "      <td>Electronic check</td>\n",
       "      <td>29.85</td>\n",
       "      <td>29.85</td>\n",
       "      <td>No</td>\n",
       "    </tr>\n",
       "    <tr>\n",
       "      <td>1</td>\n",
       "      <td>5575-GNVDE</td>\n",
       "      <td>Male</td>\n",
       "      <td>0</td>\n",
       "      <td>No</td>\n",
       "      <td>No</td>\n",
       "      <td>34</td>\n",
       "      <td>Yes</td>\n",
       "      <td>No</td>\n",
       "      <td>DSL</td>\n",
       "      <td>Yes</td>\n",
       "      <td>...</td>\n",
       "      <td>Yes</td>\n",
       "      <td>No</td>\n",
       "      <td>No</td>\n",
       "      <td>No</td>\n",
       "      <td>One year</td>\n",
       "      <td>No</td>\n",
       "      <td>Mailed check</td>\n",
       "      <td>56.95</td>\n",
       "      <td>1889.5</td>\n",
       "      <td>No</td>\n",
       "    </tr>\n",
       "    <tr>\n",
       "      <td>2</td>\n",
       "      <td>3668-QPYBK</td>\n",
       "      <td>Male</td>\n",
       "      <td>0</td>\n",
       "      <td>No</td>\n",
       "      <td>No</td>\n",
       "      <td>2</td>\n",
       "      <td>Yes</td>\n",
       "      <td>No</td>\n",
       "      <td>DSL</td>\n",
       "      <td>Yes</td>\n",
       "      <td>...</td>\n",
       "      <td>No</td>\n",
       "      <td>No</td>\n",
       "      <td>No</td>\n",
       "      <td>No</td>\n",
       "      <td>Month-to-month</td>\n",
       "      <td>Yes</td>\n",
       "      <td>Mailed check</td>\n",
       "      <td>53.85</td>\n",
       "      <td>108.15</td>\n",
       "      <td>Yes</td>\n",
       "    </tr>\n",
       "    <tr>\n",
       "      <td>3</td>\n",
       "      <td>7795-CFOCW</td>\n",
       "      <td>Male</td>\n",
       "      <td>0</td>\n",
       "      <td>No</td>\n",
       "      <td>No</td>\n",
       "      <td>45</td>\n",
       "      <td>No</td>\n",
       "      <td>No phone service</td>\n",
       "      <td>DSL</td>\n",
       "      <td>Yes</td>\n",
       "      <td>...</td>\n",
       "      <td>Yes</td>\n",
       "      <td>Yes</td>\n",
       "      <td>No</td>\n",
       "      <td>No</td>\n",
       "      <td>One year</td>\n",
       "      <td>No</td>\n",
       "      <td>Bank transfer (automatic)</td>\n",
       "      <td>42.30</td>\n",
       "      <td>1840.75</td>\n",
       "      <td>No</td>\n",
       "    </tr>\n",
       "    <tr>\n",
       "      <td>4</td>\n",
       "      <td>9237-HQITU</td>\n",
       "      <td>Female</td>\n",
       "      <td>0</td>\n",
       "      <td>No</td>\n",
       "      <td>No</td>\n",
       "      <td>2</td>\n",
       "      <td>Yes</td>\n",
       "      <td>No</td>\n",
       "      <td>Fiber optic</td>\n",
       "      <td>No</td>\n",
       "      <td>...</td>\n",
       "      <td>No</td>\n",
       "      <td>No</td>\n",
       "      <td>No</td>\n",
       "      <td>No</td>\n",
       "      <td>Month-to-month</td>\n",
       "      <td>Yes</td>\n",
       "      <td>Electronic check</td>\n",
       "      <td>70.70</td>\n",
       "      <td>151.65</td>\n",
       "      <td>Yes</td>\n",
       "    </tr>\n",
       "  </tbody>\n",
       "</table>\n",
       "<p>5 rows × 21 columns</p>\n",
       "</div>"
      ],
      "text/plain": [
       "   customerID  gender  SeniorCitizen Partner Dependents  tenure PhoneService  \\\n",
       "0  7590-VHVEG  Female              0     Yes         No       1           No   \n",
       "1  5575-GNVDE    Male              0      No         No      34          Yes   \n",
       "2  3668-QPYBK    Male              0      No         No       2          Yes   \n",
       "3  7795-CFOCW    Male              0      No         No      45           No   \n",
       "4  9237-HQITU  Female              0      No         No       2          Yes   \n",
       "\n",
       "      MultipleLines InternetService OnlineSecurity  ... DeviceProtection  \\\n",
       "0  No phone service             DSL             No  ...               No   \n",
       "1                No             DSL            Yes  ...              Yes   \n",
       "2                No             DSL            Yes  ...               No   \n",
       "3  No phone service             DSL            Yes  ...              Yes   \n",
       "4                No     Fiber optic             No  ...               No   \n",
       "\n",
       "  TechSupport StreamingTV StreamingMovies        Contract PaperlessBilling  \\\n",
       "0          No          No              No  Month-to-month              Yes   \n",
       "1          No          No              No        One year               No   \n",
       "2          No          No              No  Month-to-month              Yes   \n",
       "3         Yes          No              No        One year               No   \n",
       "4          No          No              No  Month-to-month              Yes   \n",
       "\n",
       "               PaymentMethod MonthlyCharges  TotalCharges Churn  \n",
       "0           Electronic check          29.85         29.85    No  \n",
       "1               Mailed check          56.95        1889.5    No  \n",
       "2               Mailed check          53.85        108.15   Yes  \n",
       "3  Bank transfer (automatic)          42.30       1840.75    No  \n",
       "4           Electronic check          70.70        151.65   Yes  \n",
       "\n",
       "[5 rows x 21 columns]"
      ]
     },
     "execution_count": 2,
     "metadata": {},
     "output_type": "execute_result"
    }
   ],
   "source": [
    "telco=pd.read_csv('../telco_customer_churn.csv')\n",
    "telco.head()"
   ]
  },
  {
   "cell_type": "code",
   "execution_count": 3,
   "metadata": {
    "scrolled": false
   },
   "outputs": [
    {
     "name": "stdout",
     "output_type": "stream",
     "text": [
      "<class 'pandas.core.frame.DataFrame'>\n",
      "RangeIndex: 7043 entries, 0 to 7042\n",
      "Data columns (total 21 columns):\n",
      "customerID          7043 non-null object\n",
      "gender              7043 non-null object\n",
      "SeniorCitizen       7043 non-null int64\n",
      "Partner             7043 non-null object\n",
      "Dependents          7043 non-null object\n",
      "tenure              7043 non-null int64\n",
      "PhoneService        7043 non-null object\n",
      "MultipleLines       7043 non-null object\n",
      "InternetService     7043 non-null object\n",
      "OnlineSecurity      7043 non-null object\n",
      "OnlineBackup        7043 non-null object\n",
      "DeviceProtection    7043 non-null object\n",
      "TechSupport         7043 non-null object\n",
      "StreamingTV         7043 non-null object\n",
      "StreamingMovies     7043 non-null object\n",
      "Contract            7043 non-null object\n",
      "PaperlessBilling    7043 non-null object\n",
      "PaymentMethod       7043 non-null object\n",
      "MonthlyCharges      7043 non-null float64\n",
      "TotalCharges        7043 non-null object\n",
      "Churn               7043 non-null object\n",
      "dtypes: float64(1), int64(2), object(18)\n",
      "memory usage: 1.1+ MB\n"
     ]
    }
   ],
   "source": [
    "telco.info()"
   ]
  },
  {
   "cell_type": "markdown",
   "metadata": {},
   "source": [
    "### 4. Data Cleaning"
   ]
  },
  {
   "cell_type": "code",
   "execution_count": 4,
   "metadata": {
    "scrolled": false
   },
   "outputs": [
    {
     "data": {
      "text/html": [
       "<div>\n",
       "<style scoped>\n",
       "    .dataframe tbody tr th:only-of-type {\n",
       "        vertical-align: middle;\n",
       "    }\n",
       "\n",
       "    .dataframe tbody tr th {\n",
       "        vertical-align: top;\n",
       "    }\n",
       "\n",
       "    .dataframe thead th {\n",
       "        text-align: right;\n",
       "    }\n",
       "</style>\n",
       "<table border=\"1\" class=\"dataframe\">\n",
       "  <thead>\n",
       "    <tr style=\"text-align: right;\">\n",
       "      <th></th>\n",
       "      <th>Missing_Records</th>\n",
       "      <th>Percentage (%)</th>\n",
       "    </tr>\n",
       "  </thead>\n",
       "  <tbody>\n",
       "    <tr>\n",
       "      <td>TotalCharges</td>\n",
       "      <td>11</td>\n",
       "      <td>0.156183</td>\n",
       "    </tr>\n",
       "  </tbody>\n",
       "</table>\n",
       "</div>"
      ],
      "text/plain": [
       "              Missing_Records  Percentage (%)\n",
       "TotalCharges               11        0.156183"
      ]
     },
     "execution_count": 4,
     "metadata": {},
     "output_type": "execute_result"
    }
   ],
   "source": [
    "# Although,TotalCharges should be numerical data type,but it is object type here. Let's convert.\n",
    "telco.TotalCharges=pd.to_numeric(telco.TotalCharges,errors='coerce')\n",
    "#Number of the null values in all columns\n",
    "def null_values(telco):\n",
    "    nv=pd.concat([telco.isnull().sum(), 100 * telco.isnull().sum()/telco.shape[0]],\n",
    "    axis=1).rename(columns={0:'Missing_Records', 1:'Percentage (%)'})\n",
    "    return nv[nv.Missing_Records>0].sort_values('Missing_Records', ascending=False)\n",
    "null_values(telco)"
   ]
  },
  {
   "cell_type": "code",
   "execution_count": 5,
   "metadata": {},
   "outputs": [
    {
     "data": {
      "text/html": [
       "<div>\n",
       "<style scoped>\n",
       "    .dataframe tbody tr th:only-of-type {\n",
       "        vertical-align: middle;\n",
       "    }\n",
       "\n",
       "    .dataframe tbody tr th {\n",
       "        vertical-align: top;\n",
       "    }\n",
       "\n",
       "    .dataframe thead th {\n",
       "        text-align: right;\n",
       "    }\n",
       "</style>\n",
       "<table border=\"1\" class=\"dataframe\">\n",
       "  <thead>\n",
       "    <tr style=\"text-align: right;\">\n",
       "      <th></th>\n",
       "      <th>tenure</th>\n",
       "      <th>MonthlyCharges</th>\n",
       "      <th>TotalCharges</th>\n",
       "      <th>Churn</th>\n",
       "    </tr>\n",
       "  </thead>\n",
       "  <tbody>\n",
       "    <tr>\n",
       "      <td>488</td>\n",
       "      <td>0</td>\n",
       "      <td>52.55</td>\n",
       "      <td>NaN</td>\n",
       "      <td>No</td>\n",
       "    </tr>\n",
       "    <tr>\n",
       "      <td>753</td>\n",
       "      <td>0</td>\n",
       "      <td>20.25</td>\n",
       "      <td>NaN</td>\n",
       "      <td>No</td>\n",
       "    </tr>\n",
       "    <tr>\n",
       "      <td>936</td>\n",
       "      <td>0</td>\n",
       "      <td>80.85</td>\n",
       "      <td>NaN</td>\n",
       "      <td>No</td>\n",
       "    </tr>\n",
       "    <tr>\n",
       "      <td>1082</td>\n",
       "      <td>0</td>\n",
       "      <td>25.75</td>\n",
       "      <td>NaN</td>\n",
       "      <td>No</td>\n",
       "    </tr>\n",
       "    <tr>\n",
       "      <td>1340</td>\n",
       "      <td>0</td>\n",
       "      <td>56.05</td>\n",
       "      <td>NaN</td>\n",
       "      <td>No</td>\n",
       "    </tr>\n",
       "    <tr>\n",
       "      <td>3331</td>\n",
       "      <td>0</td>\n",
       "      <td>19.85</td>\n",
       "      <td>NaN</td>\n",
       "      <td>No</td>\n",
       "    </tr>\n",
       "    <tr>\n",
       "      <td>3826</td>\n",
       "      <td>0</td>\n",
       "      <td>25.35</td>\n",
       "      <td>NaN</td>\n",
       "      <td>No</td>\n",
       "    </tr>\n",
       "    <tr>\n",
       "      <td>4380</td>\n",
       "      <td>0</td>\n",
       "      <td>20.00</td>\n",
       "      <td>NaN</td>\n",
       "      <td>No</td>\n",
       "    </tr>\n",
       "    <tr>\n",
       "      <td>5218</td>\n",
       "      <td>0</td>\n",
       "      <td>19.70</td>\n",
       "      <td>NaN</td>\n",
       "      <td>No</td>\n",
       "    </tr>\n",
       "    <tr>\n",
       "      <td>6670</td>\n",
       "      <td>0</td>\n",
       "      <td>73.35</td>\n",
       "      <td>NaN</td>\n",
       "      <td>No</td>\n",
       "    </tr>\n",
       "    <tr>\n",
       "      <td>6754</td>\n",
       "      <td>0</td>\n",
       "      <td>61.90</td>\n",
       "      <td>NaN</td>\n",
       "      <td>No</td>\n",
       "    </tr>\n",
       "  </tbody>\n",
       "</table>\n",
       "</div>"
      ],
      "text/plain": [
       "      tenure  MonthlyCharges  TotalCharges Churn\n",
       "488        0           52.55           NaN    No\n",
       "753        0           20.25           NaN    No\n",
       "936        0           80.85           NaN    No\n",
       "1082       0           25.75           NaN    No\n",
       "1340       0           56.05           NaN    No\n",
       "3331       0           19.85           NaN    No\n",
       "3826       0           25.35           NaN    No\n",
       "4380       0           20.00           NaN    No\n",
       "5218       0           19.70           NaN    No\n",
       "6670       0           73.35           NaN    No\n",
       "6754       0           61.90           NaN    No"
      ]
     },
     "execution_count": 5,
     "metadata": {},
     "output_type": "execute_result"
    }
   ],
   "source": [
    "ind=telco[telco.TotalCharges.isnull()].index\n",
    "telco.iloc[ind,[5,18,19,20]]"
   ]
  },
  {
   "cell_type": "code",
   "execution_count": 6,
   "metadata": {},
   "outputs": [],
   "source": [
    "# Also,we can drop null values and customerID column.\n",
    "telco=telco.fillna(0)\n",
    "telco=telco.drop(['customerID'],axis=1)"
   ]
  },
  {
   "cell_type": "code",
   "execution_count": 7,
   "metadata": {},
   "outputs": [],
   "source": [
    "target=['Churn']\n",
    "categorical=telco.select_dtypes(include='object').columns.tolist()\n",
    "categorical=[x for x in categorical if x not in target]\n",
    "numeric=telco.dtypes[telco.dtypes!=object].keys().tolist()"
   ]
  },
  {
   "cell_type": "markdown",
   "metadata": {},
   "source": [
    "### 5. Exploring the Data\n",
    "\n",
    "Our purpose here, mostly, understanding which and how variables are related to 'Churn'. Who wants to leave the telecom service company and why? So we made it 'Churn' oriented.\n",
    "\n",
    "Customer churn is the loss of clients or customers."
   ]
  },
  {
   "cell_type": "code",
   "execution_count": 8,
   "metadata": {},
   "outputs": [
    {
     "name": "stdout",
     "output_type": "stream",
     "text": [
      "Total Churn Number is 1869\n"
     ]
    }
   ],
   "source": [
    "print('Total Churn Number is',telco.Churn.value_counts()[1])"
   ]
  },
  {
   "cell_type": "code",
   "execution_count": 9,
   "metadata": {
    "scrolled": true
   },
   "outputs": [
    {
     "data": {
      "image/png": "[encoded data removed]",
      "text/plain": [
       "<Figure size 432x288 with 1 Axes>"
      ]
     },
     "metadata": {
      "needs_background": "light"
     },
     "output_type": "display_data"
    },
    {
     "name": "stdout",
     "output_type": "stream",
     "text": [
      "Customer Attrition ratio: %26.54\n"
     ]
    }
   ],
   "source": [
    "sns.countplot(x='Churn',data=telco)\n",
    "plt.show()\n",
    "print('Customer Attrition ratio: %{:.2f}'.format(len(telco[telco.Churn=='Yes'])/len(telco)*100))"
   ]
  },
  {
   "cell_type": "markdown",
   "metadata": {},
   "source": [
    "### Gender"
   ]
  },
  {
   "cell_type": "code",
   "execution_count": 10,
   "metadata": {},
   "outputs": [],
   "source": [
    "telco['Churn_Rate']=telco['Churn'].replace(\"No\", 0).replace(\"Yes\", 1)\n",
    "grp=telco.groupby(['Churn_Rate','gender'])[\"gender\"].count()"
   ]
  },
  {
   "cell_type": "code",
   "execution_count": 11,
   "metadata": {
    "scrolled": true
   },
   "outputs": [
    {
     "data": {
      "image/png": "[encoded data removed]",
      "text/plain": [
       "<Figure size 432x288 with 1 Axes>"
      ]
     },
     "metadata": {
      "needs_background": "light"
     },
     "output_type": "display_data"
    },
    {
     "name": "stdout",
     "output_type": "stream",
     "text": [
      "Gender Counter({'Male': 3555, 'Female': 3488})\n"
     ]
    }
   ],
   "source": [
    "plt.bar(telco.gender.unique(),grp[0],0.3)\n",
    "plt.bar(telco.gender.unique(),grp[1], 0.3,bottom=grp[0])\n",
    "plt.ylabel(\"Count of Churned Customer\")\n",
    "plt.xlabel(\"Gender\")\n",
    "plt.title(\"Count of Churned According to Gender\")\n",
    "plt.legend((\"No\", \"Yes\"),title='Churn')\n",
    "plt.show()\n",
    "print('Gender', collections.Counter(telco['gender']))"
   ]
  },
  {
   "cell_type": "code",
   "execution_count": 12,
   "metadata": {
    "scrolled": true
   },
   "outputs": [
    {
     "data": {
      "text/plain": [
       "Female    939\n",
       "Male      930\n",
       "Name: gender, dtype: int64"
      ]
     },
     "execution_count": 12,
     "metadata": {},
     "output_type": "execute_result"
    }
   ],
   "source": [
    "# Gender is ineffective for prediction of customer churn. Count of males and females who cancelled the contract\n",
    "# is approximately same.\n",
    "telco[telco.Churn=='Yes']['gender'].value_counts()"
   ]
  },
  {
   "cell_type": "markdown",
   "metadata": {},
   "source": [
    "### Partner"
   ]
  },
  {
   "cell_type": "code",
   "execution_count": 13,
   "metadata": {
    "scrolled": false
   },
   "outputs": [
    {
     "data": {
      "image/png": "[encoded data removed]",
      "text/plain": [
       "<Figure size 432x288 with 1 Axes>"
      ]
     },
     "metadata": {
      "needs_background": "light"
     },
     "output_type": "display_data"
    },
    {
     "name": "stdout",
     "output_type": "stream",
     "text": [
      "No     3641\n",
      "Yes    3402\n",
      "Name: Partner, dtype: int64\n"
     ]
    }
   ],
   "source": [
    "# Whether the customer has partner or not does seem to have some effect on the churn\n",
    "partner_p =telco.groupby(['Churn_Rate','Partner'])[\"Partner\"].count()\n",
    "plt.bar(telco.Partner.unique(),partner_p[0],0.3)\n",
    "plt.bar(telco.Partner.unique(),partner_p[1], 0.3,bottom=partner_p[0])\n",
    "plt.ylabel(\"Count of Churned Customer\")\n",
    "plt.xlabel(\"Partner\")\n",
    "plt.title(\"Count of Churned According to Partner\")\n",
    "plt.legend((\"No\", \"Yes\"),title='Churn')\n",
    "plt.show()\n",
    "print(telco['Partner'].value_counts())"
   ]
  },
  {
   "cell_type": "markdown",
   "metadata": {},
   "source": [
    "### Phone Service - Streaming TV - MultipleLines"
   ]
  },
  {
   "cell_type": "code",
   "execution_count": 14,
   "metadata": {
    "scrolled": true
   },
   "outputs": [
    {
     "data": {
      "image/png": "[encoded data removed]",
      "text/plain": [
       "<Figure size 1080x288 with 3 Axes>"
      ]
     },
     "metadata": {
      "needs_background": "light"
     },
     "output_type": "display_data"
    }
   ],
   "source": [
    "plt.figure(figsize=(15,4))\n",
    "plt.subplot(131)\n",
    "plt.title(\"PhoneService\")\n",
    "sns.countplot(x='PhoneService',hue='Churn',data=telco)\n",
    "plt.subplot(132)\n",
    "plt.title(\"StreamingTV\")\n",
    "sns.countplot(x='StreamingTV',hue='Churn',data=telco)\n",
    "plt.subplot(133)\n",
    "plt.title(\"MultipleLines\")\n",
    "sns.countplot(x='MultipleLines',hue='Churn',data=telco)\n",
    "plt.show()"
   ]
  },
  {
   "cell_type": "markdown",
   "metadata": {},
   "source": [
    "Whether customer have Phone Service or not does not seem to have an effect on the churn.\n",
    "\n",
    "Whether customer signed up for MultipleLines or not does not seem to have an effect on the churn."
   ]
  },
  {
   "cell_type": "markdown",
   "metadata": {},
   "source": [
    "### Online Security and Tech Support"
   ]
  },
  {
   "cell_type": "code",
   "execution_count": 15,
   "metadata": {
    "scrolled": true
   },
   "outputs": [
    {
     "data": {
      "image/png": "[encoded data removed]",
      "text/plain": [
       "<Figure size 864x288 with 2 Axes>"
      ]
     },
     "metadata": {
      "needs_background": "light"
     },
     "output_type": "display_data"
    }
   ],
   "source": [
    "fig, axis = plt.subplots(1, 2, figsize=(12,4))\n",
    "plt.subplot(121)\n",
    "plt.title(\"Online Security\")\n",
    "axis[0] = sns.countplot(x = 'OnlineSecurity', hue = 'Churn', data = telco)\n",
    "plt.subplot(122)\n",
    "plt.title(\"Tech Support\")\n",
    "axis[1] = sns.countplot(x = 'TechSupport', hue = 'Churn', data = telco)"
   ]
  },
  {
   "cell_type": "code",
   "execution_count": 16,
   "metadata": {
    "scrolled": true
   },
   "outputs": [
    {
     "name": "stdout",
     "output_type": "stream",
     "text": [
      "Churn Ratios by Online Security \n",
      "\n",
      "No                     41.77\n",
      "Yes                    14.61\n",
      "No internet service     7.40\n",
      "Name: OnlineSecurity, dtype: float64\n"
     ]
    }
   ],
   "source": [
    "# Customers who did not sign up for OnlineSecurity are most likely to churn.\n",
    "print('Churn Ratios by Online Security','\\n')\n",
    "print(round(telco[telco['Churn']=='Yes']['OnlineSecurity'].value_counts() / telco['OnlineSecurity'].value_counts()*100,2))"
   ]
  },
  {
   "cell_type": "code",
   "execution_count": 17,
   "metadata": {
    "scrolled": true
   },
   "outputs": [
    {
     "name": "stdout",
     "output_type": "stream",
     "text": [
      "Churn Ratios by Tech Support \n",
      "\n",
      "No                     41.64\n",
      "Yes                    15.17\n",
      "No internet service     7.40\n",
      "Name: TechSupport, dtype: float64\n"
     ]
    }
   ],
   "source": [
    "# Customers who did not sign up for TechSupport are most likely to churn.\n",
    "print('Churn Ratios by Tech Support','\\n')\n",
    "print(round(telco[telco['Churn']=='Yes']['TechSupport'].value_counts() / telco['TechSupport'].value_counts()*100,2))"
   ]
  },
  {
   "cell_type": "markdown",
   "metadata": {},
   "source": [
    "### Tenure"
   ]
  },
  {
   "cell_type": "code",
   "execution_count": 18,
   "metadata": {
    "scrolled": true
   },
   "outputs": [
    {
     "data": {
      "image/png": "[encoded data removed]",
      "text/plain": [
       "<Figure size 576x360 with 1 Axes>"
      ]
     },
     "metadata": {
      "needs_background": "light"
     },
     "output_type": "display_data"
    }
   ],
   "source": [
    "# Not churned customers have a much longer average tenure (20 months) than the churned customers.\n",
    "churn_tenure=telco[telco.Churn=='Yes']['tenure']\n",
    "not_churn_tenure=telco[telco.Churn=='No']['tenure']\n",
    "plt.figure(figsize=(8,5))\n",
    "\n",
    "sns.kdeplot(data=not_churn_tenure,label='Churn:No',shade=True)\n",
    "sns.kdeplot(data=churn_tenure,label='Churn:Yes',shade=True)\n",
    "\n",
    "plt.title(\"Distributions of Tenure, by Churn\")\n",
    "plt.show()"
   ]
  },
  {
   "cell_type": "markdown",
   "metadata": {},
   "source": [
    "### Monthly Charges"
   ]
  },
  {
   "cell_type": "code",
   "execution_count": 19,
   "metadata": {
    "scrolled": true
   },
   "outputs": [
    {
     "data": {
      "image/png": "[encoded data removed]",
      "text/plain": [
       "<Figure size 576x360 with 1 Axes>"
      ]
     },
     "metadata": {
      "needs_background": "light"
     },
     "output_type": "display_data"
    }
   ],
   "source": [
    "churn_mcharge=telco[telco.Churn=='Yes']['MonthlyCharges']\n",
    "not_churn_mcharge=telco[telco.Churn=='No']['MonthlyCharges']\n",
    "plt.figure(figsize=(8,5))\n",
    "\n",
    "sns.kdeplot(data=not_churn_mcharge,label='Churn:No',shade=True)\n",
    "sns.kdeplot(data=churn_mcharge,label='Churn:Yes',shade=True)\n",
    "\n",
    "plt.title(\"Distributions of Monthly Charges, by Churn\")\n",
    "plt.show()"
   ]
  },
  {
   "cell_type": "code",
   "execution_count": 20,
   "metadata": {
    "scrolled": true
   },
   "outputs": [
    {
     "name": "stdout",
     "output_type": "stream",
     "text": [
      "Average Monthly Fee of Churned\n",
      "74.44 \n",
      "Average Monthly Fee of Not Churned\n",
      "61.27\n"
     ]
    }
   ],
   "source": [
    "print('Average Monthly Fee of Churned')\n",
    "print(round(telco[telco.Churn=='Yes']['MonthlyCharges'].mean(),2),'\\nAverage Monthly Fee of Not Churned')\n",
    "print(round(telco[telco.Churn=='No']['MonthlyCharges'].mean(),2))"
   ]
  },
  {
   "cell_type": "markdown",
   "metadata": {},
   "source": [
    "Churned customers paid over 20% higher on average monthly fee than not-churned customers."
   ]
  },
  {
   "cell_type": "markdown",
   "metadata": {},
   "source": [
    "### Senior Citizen-Tenure-Monthly Charges"
   ]
  },
  {
   "cell_type": "code",
   "execution_count": 21,
   "metadata": {},
   "outputs": [
    {
     "data": {
      "image/png": "[encoded data removed]",
      "text/plain": [
       "<Figure size 557.359x252 with 2 Axes>"
      ]
     },
     "metadata": {
      "needs_background": "light"
     },
     "output_type": "display_data"
    }
   ],
   "source": [
    "g=sns.FacetGrid(telco,col='SeniorCitizen', hue='Churn',height=3.5)\n",
    "g.map(plt.scatter, 'tenure', 'MonthlyCharges', alpha=0.6)\n",
    "g.add_legend();"
   ]
  },
  {
   "cell_type": "code",
   "execution_count": 22,
   "metadata": {
    "scrolled": true
   },
   "outputs": [
    {
     "name": "stdout",
     "output_type": "stream",
     "text": [
      "SeniorCitizens percentage of customers: % 16.21\n",
      "SeniorCitizens churn rate: % 41.68\n",
      "non-SeniorCitizens churn rate: % 23.61\n"
     ]
    }
   ],
   "source": [
    "#SeniorCitizens are only 16% of customers, but they have a much higher churn rate: 42% against 23% for non-senior customers.\n",
    "print('SeniorCitizens percentage of customers: % {:.2f}'.format(len(telco[telco.SeniorCitizen==1])/len(telco.SeniorCitizen)*100))\n",
    "print('SeniorCitizens churn rate: % {:.2f}'.format(len(telco[(telco.SeniorCitizen==1) & (telco.Churn=='Yes')])/len(telco[telco.SeniorCitizen==1])*100))\n",
    "print('non-SeniorCitizens churn rate: % {:.2f}'.format(len(telco[(telco.SeniorCitizen==0) & (telco.Churn=='Yes')])/len(telco[telco.SeniorCitizen==0])*100))"
   ]
  },
  {
   "cell_type": "markdown",
   "metadata": {},
   "source": [
    "### Contract-Internet Service-Churn"
   ]
  },
  {
   "cell_type": "code",
   "execution_count": 23,
   "metadata": {},
   "outputs": [
    {
     "data": {
      "image/png": "[encoded data removed]",
      "text/plain": [
       "<Figure size 777.6x288 with 3 Axes>"
      ]
     },
     "metadata": {
      "needs_background": "light"
     },
     "output_type": "display_data"
    }
   ],
   "source": [
    "# Customers with Fiber optics are more probable to churn\n",
    "# Short term contracts have higher churn rates\n",
    "g = sns.FacetGrid(telco,col='InternetService',height=4, aspect=.9)\n",
    "ax = g.map(sns.barplot, \"Contract\", \"Churn_Rate\", palette = \"Blues_d\", order= ['Month-to-month', 'One year', 'Two year'])"
   ]
  },
  {
   "cell_type": "markdown",
   "metadata": {},
   "source": [
    "It is obvious that contract term does have an effect on churn.There were very few churns when customers have a two-year contract. And most churns occurred on customers with a month-to-month contract."
   ]
  },
  {
   "cell_type": "markdown",
   "metadata": {},
   "source": [
    "It seems customers who signed up for Fiber optic are most likely to churn."
   ]
  },
  {
   "cell_type": "code",
   "execution_count": 24,
   "metadata": {},
   "outputs": [],
   "source": [
    "def class_tenure(telco):\n",
    "    if telco['tenure']<=12 :\n",
    "        return 1\n",
    "    elif (telco['tenure']>12) & (telco['tenure']<=24):\n",
    "        return 2\n",
    "    elif (telco['tenure']>24) & (telco['tenure']<=36):\n",
    "        return 3\n",
    "    elif (telco['tenure']>36) & (telco['tenure']<=48):\n",
    "        return 4\n",
    "    elif (telco['tenure']>48) & (telco['tenure']<=60):\n",
    "        return 5\n",
    "    elif telco['tenure']>60:\n",
    "        return 6\n",
    "telco['class_tenure']=telco.apply(lambda telco: class_tenure(telco),axis=1)"
   ]
  },
  {
   "cell_type": "code",
   "execution_count": 25,
   "metadata": {},
   "outputs": [
    {
     "data": {
      "image/png": "[encoded data removed]",
      "text/plain": [
       "<Figure size 1080x360 with 1 Axes>"
      ]
     },
     "metadata": {
      "needs_background": "light"
     },
     "output_type": "display_data"
    }
   ],
   "source": [
    "plt.figure(figsize=(15,5))\n",
    "sns.barplot('class_tenure','MonthlyCharges',hue= 'Churn',data=telco)\n",
    "plt.show()"
   ]
  },
  {
   "cell_type": "code",
   "execution_count": 26,
   "metadata": {
    "scrolled": false
   },
   "outputs": [
    {
     "name": "stdout",
     "output_type": "stream",
     "text": [
      "Sum of Churned Count by Tenure:\n",
      " -------------------- \n",
      " class_tenure  Churn\n",
      "1             No       1149\n",
      "              Yes      1037\n",
      "2             No        730\n",
      "              Yes       294\n",
      "3             No        652\n",
      "              Yes       180\n",
      "4             No        617\n",
      "              Yes       145\n",
      "5             No        712\n",
      "              Yes       120\n",
      "6             No       1314\n",
      "              Yes        93\n",
      "Name: MonthlyCharges, dtype: int64\n"
     ]
    }
   ],
   "source": [
    "group_charge = telco['MonthlyCharges'].groupby((telco['class_tenure'],telco['Churn']))\n",
    "print('Sum of Churned Count by Tenure:\\n', '--'*10, '\\n' ,group_charge.count())"
   ]
  },
  {
   "cell_type": "markdown",
   "metadata": {},
   "source": [
    "In first year, count of the Churned and Not Churned are close to each other. In the later years,the Not Churned customers are more than Churned customers. "
   ]
  },
  {
   "cell_type": "markdown",
   "metadata": {},
   "source": [
    "### 6. Building Models"
   ]
  },
  {
   "cell_type": "markdown",
   "metadata": {},
   "source": [
    "####  Preparation"
   ]
  },
  {
   "cell_type": "code",
   "execution_count": 27,
   "metadata": {
    "scrolled": true
   },
   "outputs": [],
   "source": [
    "telco.Churn=telco.Churn.replace({\"Yes\":1, \"No\":0})\n",
    "# Drop unused columns\n",
    "telco=telco.drop(columns=['Churn_Rate'],axis=1)"
   ]
  },
  {
   "cell_type": "code",
   "execution_count": 28,
   "metadata": {},
   "outputs": [],
   "source": [
    "telco2=pd.concat([telco,pd.get_dummies(telco[categorical])],axis=1).drop(telco[categorical],axis=1)"
   ]
  },
  {
   "cell_type": "code",
   "execution_count": 29,
   "metadata": {
    "scrolled": true
   },
   "outputs": [
    {
     "data": {
      "text/html": [
       "<div>\n",
       "<style scoped>\n",
       "    .dataframe tbody tr th:only-of-type {\n",
       "        vertical-align: middle;\n",
       "    }\n",
       "\n",
       "    .dataframe tbody tr th {\n",
       "        vertical-align: top;\n",
       "    }\n",
       "\n",
       "    .dataframe thead th {\n",
       "        text-align: right;\n",
       "    }\n",
       "</style>\n",
       "<table border=\"1\" class=\"dataframe\">\n",
       "  <thead>\n",
       "    <tr style=\"text-align: right;\">\n",
       "      <th></th>\n",
       "      <th>SeniorCitizen</th>\n",
       "      <th>tenure</th>\n",
       "      <th>MonthlyCharges</th>\n",
       "      <th>TotalCharges</th>\n",
       "      <th>Churn</th>\n",
       "      <th>class_tenure</th>\n",
       "      <th>gender_Female</th>\n",
       "      <th>gender_Male</th>\n",
       "      <th>Partner_No</th>\n",
       "      <th>Partner_Yes</th>\n",
       "      <th>...</th>\n",
       "      <th>StreamingMovies_Yes</th>\n",
       "      <th>Contract_Month-to-month</th>\n",
       "      <th>Contract_One year</th>\n",
       "      <th>Contract_Two year</th>\n",
       "      <th>PaperlessBilling_No</th>\n",
       "      <th>PaperlessBilling_Yes</th>\n",
       "      <th>PaymentMethod_Bank transfer (automatic)</th>\n",
       "      <th>PaymentMethod_Credit card (automatic)</th>\n",
       "      <th>PaymentMethod_Electronic check</th>\n",
       "      <th>PaymentMethod_Mailed check</th>\n",
       "    </tr>\n",
       "  </thead>\n",
       "  <tbody>\n",
       "    <tr>\n",
       "      <td>0</td>\n",
       "      <td>0</td>\n",
       "      <td>1</td>\n",
       "      <td>29.85</td>\n",
       "      <td>29.85</td>\n",
       "      <td>0</td>\n",
       "      <td>1</td>\n",
       "      <td>1</td>\n",
       "      <td>0</td>\n",
       "      <td>0</td>\n",
       "      <td>1</td>\n",
       "      <td>...</td>\n",
       "      <td>0</td>\n",
       "      <td>1</td>\n",
       "      <td>0</td>\n",
       "      <td>0</td>\n",
       "      <td>0</td>\n",
       "      <td>1</td>\n",
       "      <td>0</td>\n",
       "      <td>0</td>\n",
       "      <td>1</td>\n",
       "      <td>0</td>\n",
       "    </tr>\n",
       "    <tr>\n",
       "      <td>1</td>\n",
       "      <td>0</td>\n",
       "      <td>34</td>\n",
       "      <td>56.95</td>\n",
       "      <td>1889.50</td>\n",
       "      <td>0</td>\n",
       "      <td>3</td>\n",
       "      <td>0</td>\n",
       "      <td>1</td>\n",
       "      <td>1</td>\n",
       "      <td>0</td>\n",
       "      <td>...</td>\n",
       "      <td>0</td>\n",
       "      <td>0</td>\n",
       "      <td>1</td>\n",
       "      <td>0</td>\n",
       "      <td>1</td>\n",
       "      <td>0</td>\n",
       "      <td>0</td>\n",
       "      <td>0</td>\n",
       "      <td>0</td>\n",
       "      <td>1</td>\n",
       "    </tr>\n",
       "    <tr>\n",
       "      <td>2</td>\n",
       "      <td>0</td>\n",
       "      <td>2</td>\n",
       "      <td>53.85</td>\n",
       "      <td>108.15</td>\n",
       "      <td>1</td>\n",
       "      <td>1</td>\n",
       "      <td>0</td>\n",
       "      <td>1</td>\n",
       "      <td>1</td>\n",
       "      <td>0</td>\n",
       "      <td>...</td>\n",
       "      <td>0</td>\n",
       "      <td>1</td>\n",
       "      <td>0</td>\n",
       "      <td>0</td>\n",
       "      <td>0</td>\n",
       "      <td>1</td>\n",
       "      <td>0</td>\n",
       "      <td>0</td>\n",
       "      <td>0</td>\n",
       "      <td>1</td>\n",
       "    </tr>\n",
       "  </tbody>\n",
       "</table>\n",
       "<p>3 rows × 47 columns</p>\n",
       "</div>"
      ],
      "text/plain": [
       "   SeniorCitizen  tenure  MonthlyCharges  TotalCharges  Churn  class_tenure  \\\n",
       "0              0       1           29.85         29.85      0             1   \n",
       "1              0      34           56.95       1889.50      0             3   \n",
       "2              0       2           53.85        108.15      1             1   \n",
       "\n",
       "   gender_Female  gender_Male  Partner_No  Partner_Yes  ...  \\\n",
       "0              1            0           0            1  ...   \n",
       "1              0            1           1            0  ...   \n",
       "2              0            1           1            0  ...   \n",
       "\n",
       "   StreamingMovies_Yes  Contract_Month-to-month  Contract_One year  \\\n",
       "0                    0                        1                  0   \n",
       "1                    0                        0                  1   \n",
       "2                    0                        1                  0   \n",
       "\n",
       "   Contract_Two year  PaperlessBilling_No  PaperlessBilling_Yes  \\\n",
       "0                  0                    0                     1   \n",
       "1                  0                    1                     0   \n",
       "2                  0                    0                     1   \n",
       "\n",
       "   PaymentMethod_Bank transfer (automatic)  \\\n",
       "0                                        0   \n",
       "1                                        0   \n",
       "2                                        0   \n",
       "\n",
       "   PaymentMethod_Credit card (automatic)  PaymentMethod_Electronic check  \\\n",
       "0                                      0                               1   \n",
       "1                                      0                               0   \n",
       "2                                      0                               0   \n",
       "\n",
       "   PaymentMethod_Mailed check  \n",
       "0                           0  \n",
       "1                           1  \n",
       "2                           1  \n",
       "\n",
       "[3 rows x 47 columns]"
      ]
     },
     "execution_count": 29,
     "metadata": {},
     "output_type": "execute_result"
    }
   ],
   "source": [
    "telco2.head(3)"
   ]
  },
  {
   "cell_type": "markdown",
   "metadata": {},
   "source": [
    "#### Is data balanced or imbalanced?"
   ]
  },
  {
   "cell_type": "code",
   "execution_count": 30,
   "metadata": {},
   "outputs": [
    {
     "data": {
      "text/plain": [
       "0    5174\n",
       "1    1869\n",
       "Name: Churn, dtype: int64"
      ]
     },
     "execution_count": 30,
     "metadata": {},
     "output_type": "execute_result"
    }
   ],
   "source": [
    "telco2.Churn.value_counts()"
   ]
  },
  {
   "cell_type": "code",
   "execution_count": 31,
   "metadata": {
    "scrolled": true
   },
   "outputs": [
    {
     "name": "stdout",
     "output_type": "stream",
     "text": [
      "Percentage of Churned(Yes)     Customer:% 26.54\n",
      "Percentage of Not Churned(No)  Customer:% 73.46\n"
     ]
    }
   ],
   "source": [
    "print(\"Percentage of Churned(Yes)     Customer:%\",round(telco.Churn.value_counts()[1]/telco.shape[0]*100,2))\n",
    "print(\"Percentage of Not Churned(No)  Customer:%\",round(telco.Churn.value_counts()[0]/telco.shape[0]*100,2))"
   ]
  },
  {
   "cell_type": "markdown",
   "metadata": {},
   "source": [
    "Target variable is a bit of imbalanced. We should resample the data.\n",
    "\n",
    "Also, we will use Synthetic Sample Generation methods such as SMOTE and ADASYN."
   ]
  },
  {
   "cell_type": "code",
   "execution_count": 32,
   "metadata": {},
   "outputs": [],
   "source": [
    "X=telco2.drop('Churn',axis=1)\n",
    "y=telco2.Churn"
   ]
  },
  {
   "cell_type": "markdown",
   "metadata": {},
   "source": [
    "#### Standart Scale\n",
    "Generally, most of the datasets have very different scales and contain some very large outliers. These two characteristics lead to difficulties to visualize the data and, more importantly, they can degrade the predictive performance of many machine learning algorithms."
   ]
  },
  {
   "cell_type": "code",
   "execution_count": 33,
   "metadata": {},
   "outputs": [],
   "source": [
    "# Let's apply StandartScaler to our data only for features.\n",
    "from sklearn.preprocessing import StandardScaler\n",
    "scaler=StandardScaler()\n",
    "X_scl=scaler.fit_transform(X)"
   ]
  },
  {
   "cell_type": "markdown",
   "metadata": {},
   "source": [
    "###  Logistic Regression with Grid Search\n",
    "Grid-search is used to find the optimal hyperparameters of a model which results in the most ‘accurate’ predictions."
   ]
  },
  {
   "cell_type": "code",
   "execution_count": 34,
   "metadata": {},
   "outputs": [],
   "source": [
    "from sklearn.model_selection import train_test_split\n",
    "from sklearn.linear_model import LogisticRegression\n",
    "from sklearn.metrics import accuracy_score\n",
    "from sklearn.metrics import precision_score\n",
    "from sklearn.metrics import recall_score\n",
    "from sklearn.metrics import f1_score\n",
    "from sklearn.metrics import roc_auc_score"
   ]
  },
  {
   "cell_type": "code",
   "execution_count": 35,
   "metadata": {},
   "outputs": [],
   "source": [
    "# Create hyperparameter options\n",
    "from sklearn.linear_model import LogisticRegression\n",
    "logistic=LogisticRegression()\n",
    "parameters = {\"C\": [10 ** x for x in range (-5, 5, 1)],\n",
    "                \"penalty\": ['l1', 'l2'],'solver': ('linear', 'lbfgs', 'liblinear')}"
   ]
  },
  {
   "cell_type": "code",
   "execution_count": 36,
   "metadata": {},
   "outputs": [
    {
     "name": "stdout",
     "output_type": "stream",
     "text": [
      "The best parameters :  {'C': 0.1, 'penalty': 'l2', 'solver': 'liblinear'}\n",
      "The best score         :  0.8069003868471954\n"
     ]
    }
   ],
   "source": [
    "from sklearn.model_selection import GridSearchCV\n",
    "grid_cv = GridSearchCV(estimator=logistic,\n",
    "                       param_grid = parameters,\n",
    "                       cv = 10)\n",
    "grid_cv.fit(X, y)\n",
    "print(\"The best parameters : \", grid_cv.best_params_)\n",
    "print(\"The best score         : \", grid_cv.best_score_)"
   ]
  },
  {
   "cell_type": "code",
   "execution_count": 37,
   "metadata": {},
   "outputs": [],
   "source": [
    "def create_model(X,y,tip):\n",
    "    X_train, X_test, y_train, y_test =  train_test_split(X, y, test_size=0.20, random_state=111, stratify = y)\n",
    "    logistic = LogisticRegression(solver='liblinear',penalty='l1',C=0.1)\n",
    "    logistic.fit(X_train, y_train)\n",
    "    \n",
    "    prediction_train=logistic.predict(X_train)\n",
    "    prediction_test=logistic.predict(X_test)\n",
    "    \n",
    "    prediction_test_prob = logistic.predict_proba(X_test)[:,1]\n",
    "    \n",
    "    d = pd.Series({'Accuracy_Train':accuracy_score(y_train,prediction_train),\n",
    "                   'Precision_Train':precision_score(y_train,prediction_train),\n",
    "                   'Recall_Train':recall_score(y_train,prediction_train),\n",
    "                   'F1 Score_Train':f1_score(y_train,prediction_train),\n",
    "                   'Accuracy_Test':accuracy_score(y_test,prediction_test),\n",
    "                   'Precision_Test':precision_score(y_test,prediction_test),\n",
    "                   'Recall_Test':recall_score(y_test,prediction_test),\n",
    "                   'F1 Score_Test':f1_score(y_test,prediction_test),\n",
    "                   'AUC Score':roc_auc_score(y_test, prediction_test_prob)},name=tip)\n",
    "    return d"
   ]
  },
  {
   "cell_type": "code",
   "execution_count": 38,
   "metadata": {},
   "outputs": [],
   "source": [
    "metrics=pd.DataFrame()"
   ]
  },
  {
   "cell_type": "code",
   "execution_count": 39,
   "metadata": {},
   "outputs": [
    {
     "data": {
      "text/html": [
       "<div>\n",
       "<style scoped>\n",
       "    .dataframe tbody tr th:only-of-type {\n",
       "        vertical-align: middle;\n",
       "    }\n",
       "\n",
       "    .dataframe tbody tr th {\n",
       "        vertical-align: top;\n",
       "    }\n",
       "\n",
       "    .dataframe thead th {\n",
       "        text-align: right;\n",
       "    }\n",
       "</style>\n",
       "<table border=\"1\" class=\"dataframe\">\n",
       "  <thead>\n",
       "    <tr style=\"text-align: right;\">\n",
       "      <th></th>\n",
       "      <th>Accuracy_Test</th>\n",
       "      <th>Accuracy_Train</th>\n",
       "    </tr>\n",
       "  </thead>\n",
       "  <tbody>\n",
       "    <tr>\n",
       "      <td>Logistic_Regr.</td>\n",
       "      <td>0.805536</td>\n",
       "      <td>0.804402</td>\n",
       "    </tr>\n",
       "  </tbody>\n",
       "</table>\n",
       "</div>"
      ],
      "text/plain": [
       "                Accuracy_Test  Accuracy_Train\n",
       "Logistic_Regr.       0.805536        0.804402"
      ]
     },
     "execution_count": 39,
     "metadata": {},
     "output_type": "execute_result"
    }
   ],
   "source": [
    "metrics=metrics.append(create_model(X_scl,y,tip='Logistic_Regr.'))\n",
    "metrics.iloc[[0], [1, 2]]"
   ]
  },
  {
   "cell_type": "markdown",
   "metadata": {},
   "source": [
    "### Logistic Regression with Cross Validation\n",
    "\n",
    "Cross validation (CV) is one of the technique used to test the effectiveness of a machine learning models, it is also a re-sampling procedure used to evaluate a model if we have a limited data."
   ]
  },
  {
   "cell_type": "code",
   "execution_count": 40,
   "metadata": {},
   "outputs": [],
   "source": [
    "from sklearn.model_selection import cross_validate, cross_val_score"
   ]
  },
  {
   "cell_type": "code",
   "execution_count": 41,
   "metadata": {
    "scrolled": true
   },
   "outputs": [
    {
     "name": "stdout",
     "output_type": "stream",
     "text": [
      "Test Scores            : \n",
      "[0.7929078  0.81276596 0.80567376 0.82528409 0.78409091 0.79403409\n",
      " 0.81676136 0.80539773 0.80113636 0.80965909]\n",
      "--------------------------------------------------\n",
      "Train Scores          : \n",
      "[0.80672136 0.80514358 0.80514358 0.80407004 0.8086449  0.80754062\n",
      " 0.80470106 0.80533207 0.80785613 0.80643635]\n"
     ]
    }
   ],
   "source": [
    "lrm = LogisticRegression(solver='liblinear',penalty='l1',C=0.1)\n",
    "cv = cross_validate(estimator=lrm,\n",
    "                     X=X_scl,\n",
    "                     y=y,\n",
    "                     cv=10,return_train_score=True\n",
    "                    )\n",
    "print('Test Scores            : ', cv['test_score'], sep = '\\n')\n",
    "print(\"-\"*50)\n",
    "print('Train Scores          : ', cv['train_score'], sep = '\\n')"
   ]
  },
  {
   "cell_type": "code",
   "execution_count": 42,
   "metadata": {
    "scrolled": true
   },
   "outputs": [
    {
     "name": "stdout",
     "output_type": "stream",
     "text": [
      "Mean of Test Sets :  0.8047711154094133\n",
      "Mean of Train Sets :  0.8061589684259353\n"
     ]
    }
   ],
   "source": [
    "print('Mean of Test Sets : ', cv['test_score'].mean())\n",
    "print('Mean of Train Sets : ', cv['train_score'].mean())"
   ]
  },
  {
   "cell_type": "markdown",
   "metadata": {},
   "source": [
    "Default value of scoring compute the accuracy score of test and train sets.\n",
    "Train-test split and cross validation techniques have given almost same results."
   ]
  },
  {
   "cell_type": "markdown",
   "metadata": {},
   "source": [
    "### Resampling"
   ]
  },
  {
   "cell_type": "code",
   "execution_count": 43,
   "metadata": {},
   "outputs": [
    {
     "data": {
      "text/plain": [
       "1    5174\n",
       "0    5174\n",
       "Name: Churn, dtype: int64"
      ]
     },
     "execution_count": 43,
     "metadata": {},
     "output_type": "execute_result"
    }
   ],
   "source": [
    "from sklearn.utils import resample\n",
    "churned_customer=telco2[telco2.Churn==1]\n",
    "notchurned_customer=telco2[telco2.Churn==0]\n",
    "churned_customer_resample= resample(churned_customer,\n",
    "                                     replace = True,\n",
    "                                     n_samples = len(notchurned_customer),\n",
    "                                     random_state = 111)\n",
    "\n",
    "resample_df = pd.concat([notchurned_customer, churned_customer_resample])\n",
    "resample_df.Churn.value_counts()"
   ]
  },
  {
   "cell_type": "code",
   "execution_count": 44,
   "metadata": {},
   "outputs": [],
   "source": [
    "X = resample_df.drop('Churn', axis=1)\n",
    "y = resample_df['Churn']\n",
    "metrics=metrics.append(create_model(X,y,'Resampled_Logistic'))"
   ]
  },
  {
   "cell_type": "markdown",
   "metadata": {},
   "source": [
    "### Logistic Regression with SMOTE"
   ]
  },
  {
   "cell_type": "code",
   "execution_count": 45,
   "metadata": {},
   "outputs": [],
   "source": [
    "from imblearn.over_sampling import SMOTE\n",
    "y_s = telco2.Churn\n",
    "X_s = telco2.drop('Churn', axis=1)\n",
    "\n",
    "sm = SMOTE(random_state=111)\n",
    "X_smote, y_smote = sm.fit_sample(X_s, y_s)\n",
    "metrics=metrics.append(create_model(X_smote,y_smote,'L.Regression_with_SMOTE'))"
   ]
  },
  {
   "cell_type": "markdown",
   "metadata": {},
   "source": [
    "### Logistic Regression with ADASYN"
   ]
  },
  {
   "cell_type": "code",
   "execution_count": 46,
   "metadata": {},
   "outputs": [],
   "source": [
    "from imblearn.over_sampling import ADASYN\n",
    "y_a = telco2.Churn\n",
    "X_a = telco2.drop('Churn', axis=1)\n",
    "\n",
    "ad = ADASYN(random_state=111)\n",
    "X_adasyn, y_adasyn = ad.fit_sample(X_a, y_a)\n",
    "metrics=metrics.append(create_model(X_adasyn,y_adasyn,'L.Regression_with_ADASYN'))"
   ]
  },
  {
   "cell_type": "code",
   "execution_count": 47,
   "metadata": {},
   "outputs": [
    {
     "data": {
      "text/html": [
       "<div>\n",
       "<style scoped>\n",
       "    .dataframe tbody tr th:only-of-type {\n",
       "        vertical-align: middle;\n",
       "    }\n",
       "\n",
       "    .dataframe tbody tr th {\n",
       "        vertical-align: top;\n",
       "    }\n",
       "\n",
       "    .dataframe thead th {\n",
       "        text-align: right;\n",
       "    }\n",
       "</style>\n",
       "<table border=\"1\" class=\"dataframe\">\n",
       "  <thead>\n",
       "    <tr style=\"text-align: right;\">\n",
       "      <th></th>\n",
       "      <th>AUC Score</th>\n",
       "      <th>Accuracy_Test</th>\n",
       "      <th>Accuracy_Train</th>\n",
       "      <th>F1 Score_Test</th>\n",
       "      <th>F1 Score_Train</th>\n",
       "      <th>Precision_Test</th>\n",
       "      <th>Precision_Train</th>\n",
       "      <th>Recall_Test</th>\n",
       "      <th>Recall_Train</th>\n",
       "    </tr>\n",
       "  </thead>\n",
       "  <tbody>\n",
       "    <tr>\n",
       "      <td>Logistic_Regr.</td>\n",
       "      <td>0.854706</td>\n",
       "      <td>0.805536</td>\n",
       "      <td>0.804402</td>\n",
       "      <td>0.591045</td>\n",
       "      <td>0.595151</td>\n",
       "      <td>0.668919</td>\n",
       "      <td>0.660147</td>\n",
       "      <td>0.529412</td>\n",
       "      <td>0.541806</td>\n",
       "    </tr>\n",
       "    <tr>\n",
       "      <td>Resampled_Logistic</td>\n",
       "      <td>0.847749</td>\n",
       "      <td>0.761353</td>\n",
       "      <td>0.768060</td>\n",
       "      <td>0.769590</td>\n",
       "      <td>0.777726</td>\n",
       "      <td>0.743913</td>\n",
       "      <td>0.746610</td>\n",
       "      <td>0.797101</td>\n",
       "      <td>0.811549</td>\n",
       "    </tr>\n",
       "    <tr>\n",
       "      <td>L.Regression_with_SMOTE</td>\n",
       "      <td>0.937307</td>\n",
       "      <td>0.853623</td>\n",
       "      <td>0.855400</td>\n",
       "      <td>0.850812</td>\n",
       "      <td>0.853793</td>\n",
       "      <td>0.867470</td>\n",
       "      <td>0.863389</td>\n",
       "      <td>0.834783</td>\n",
       "      <td>0.844407</td>\n",
       "    </tr>\n",
       "    <tr>\n",
       "      <td>L.Regression_with_ADASYN</td>\n",
       "      <td>0.939259</td>\n",
       "      <td>0.857143</td>\n",
       "      <td>0.857469</td>\n",
       "      <td>0.854910</td>\n",
       "      <td>0.855857</td>\n",
       "      <td>0.872383</td>\n",
       "      <td>0.869501</td>\n",
       "      <td>0.838123</td>\n",
       "      <td>0.842635</td>\n",
       "    </tr>\n",
       "  </tbody>\n",
       "</table>\n",
       "</div>"
      ],
      "text/plain": [
       "                          AUC Score  Accuracy_Test  Accuracy_Train  \\\n",
       "Logistic_Regr.             0.854706       0.805536        0.804402   \n",
       "Resampled_Logistic         0.847749       0.761353        0.768060   \n",
       "L.Regression_with_SMOTE    0.937307       0.853623        0.855400   \n",
       "L.Regression_with_ADASYN   0.939259       0.857143        0.857469   \n",
       "\n",
       "                          F1 Score_Test  F1 Score_Train  Precision_Test  \\\n",
       "Logistic_Regr.                 0.591045        0.595151        0.668919   \n",
       "Resampled_Logistic             0.769590        0.777726        0.743913   \n",
       "L.Regression_with_SMOTE        0.850812        0.853793        0.867470   \n",
       "L.Regression_with_ADASYN       0.854910        0.855857        0.872383   \n",
       "\n",
       "                          Precision_Train  Recall_Test  Recall_Train  \n",
       "Logistic_Regr.                   0.660147     0.529412      0.541806  \n",
       "Resampled_Logistic               0.746610     0.797101      0.811549  \n",
       "L.Regression_with_SMOTE          0.863389     0.834783      0.844407  \n",
       "L.Regression_with_ADASYN         0.869501     0.838123      0.842635  "
      ]
     },
     "execution_count": 47,
     "metadata": {},
     "output_type": "execute_result"
    }
   ],
   "source": [
    "metrics"
   ]
  },
  {
   "cell_type": "markdown",
   "metadata": {},
   "source": [
    "### K-Nearest Neighbour Algorithm"
   ]
  },
  {
   "cell_type": "code",
   "execution_count": 48,
   "metadata": {},
   "outputs": [],
   "source": [
    "X=telco2.drop('Churn',axis=1)\n",
    "y=telco2.Churn"
   ]
  },
  {
   "cell_type": "code",
   "execution_count": 49,
   "metadata": {},
   "outputs": [],
   "source": [
    "from sklearn.model_selection import train_test_split\n",
    "from sklearn.preprocessing import StandardScaler\n",
    "scaler=StandardScaler()\n",
    "X_scl=scaler.fit_transform(X)\n",
    "X_train, X_test, y_train, y_test =  train_test_split(X_scl,y, test_size=0.20, random_state=40, stratify = y)"
   ]
  },
  {
   "cell_type": "code",
   "execution_count": 50,
   "metadata": {},
   "outputs": [
    {
     "data": {
      "text/plain": [
       "KNeighborsClassifier(algorithm='auto', leaf_size=30, metric='minkowski',\n",
       "                     metric_params=None, n_jobs=None, n_neighbors=5, p=2,\n",
       "                     weights='uniform')"
      ]
     },
     "execution_count": 50,
     "metadata": {},
     "output_type": "execute_result"
    }
   ],
   "source": [
    "from sklearn.neighbors import KNeighborsClassifier\n",
    "Knn=KNeighborsClassifier(n_neighbors=5)\n",
    "Knn.fit(X_train,y_train)"
   ]
  },
  {
   "cell_type": "code",
   "execution_count": 51,
   "metadata": {},
   "outputs": [],
   "source": [
    "test_preds=Knn.predict(X_test)\n",
    "y_probs=Knn.predict_proba(X_test)[:,1]"
   ]
  },
  {
   "cell_type": "code",
   "execution_count": 52,
   "metadata": {
    "scrolled": false
   },
   "outputs": [
    {
     "name": "stdout",
     "output_type": "stream",
     "text": [
      "Precision Score: 0.514745308310992\n",
      "Recall Score   : 0.5133689839572193\n",
      "Accuracy Score : 0.7423704755145494\n",
      "F1 Score       : 0.5140562248995983\n",
      "AUC Score      : 0.7555271383915885\n"
     ]
    }
   ],
   "source": [
    "from sklearn.metrics import precision_score, recall_score, accuracy_score, f1_score, roc_auc_score\n",
    "def metric(x,y):\n",
    "    print(\"Precision Score: {}\".format(precision_score(x,y)))\n",
    "    print('Recall Score   : {}'.format(recall_score(x,y)))\n",
    "    print(\"Accuracy Score : {}\".format(accuracy_score(x,y)))\n",
    "    print(\"F1 Score       : {}\".format(f1_score(x,y)))\n",
    "metric(y_test,test_preds)\n",
    "print(\"AUC Score      : {}\".format(roc_auc_score(y_test,y_probs)))"
   ]
  },
  {
   "cell_type": "markdown",
   "metadata": {},
   "source": [
    "If the metrics / model performance are not satisfying we can try to find optimum k-neighbors with GridSearchCV"
   ]
  },
  {
   "cell_type": "code",
   "execution_count": 53,
   "metadata": {
    "scrolled": true
   },
   "outputs": [
    {
     "name": "stdout",
     "output_type": "stream",
     "text": [
      "The best parameters: KNeighborsClassifier(algorithm='auto', leaf_size=30, metric='minkowski',\n",
      "                     metric_params=None, n_jobs=None, n_neighbors=24, p=2,\n",
      "                     weights='uniform')\n",
      "The best score: 0.7949610311345929\n"
     ]
    }
   ],
   "source": [
    "from sklearn.model_selection import GridSearchCV\n",
    "from sklearn.model_selection import cross_val_score\n",
    "Knn=KNeighborsClassifier()\n",
    "k_range = list(range(1,25))\n",
    "parameter = dict(n_neighbors=k_range)\n",
    "grid = GridSearchCV(Knn, parameter, cv=10, scoring='roc_auc')\n",
    "Grds = grid.fit(X,y)\n",
    "print('The best parameters:', Grds.best_estimator_)\n",
    "print('The best score:', Grds.best_score_)"
   ]
  },
  {
   "cell_type": "code",
   "execution_count": 54,
   "metadata": {
    "scrolled": false
   },
   "outputs": [
    {
     "name": "stdout",
     "output_type": "stream",
     "text": [
      "Precision Score: 0.6104651162790697\n",
      "Recall Score   : 0.5614973262032086\n",
      "Accuracy Score : 0.7885024840312278\n",
      "F1 Score       : 0.5849582172701949\n",
      "AUC Score      : 0.8303727815236768\n"
     ]
    }
   ],
   "source": [
    "Grds=Grds.best_estimator_.fit(X_train, y_train)\n",
    "# predictions for test set\n",
    "y_preds = Grds.predict(X_test)\n",
    "y_probs=Grds.predict_proba(X_test)[:,1]\n",
    "metric(y_test,y_preds)\n",
    "print(\"AUC Score      : {}\".format(roc_auc_score(y_test,y_probs)))"
   ]
  },
  {
   "cell_type": "markdown",
   "metadata": {},
   "source": [
    "### 7. Results"
   ]
  },
  {
   "cell_type": "markdown",
   "metadata": {},
   "source": [
    "Accuracy is a valid choice of evaluation for classification problems which are well balanced and not skewed or No class imbalance."
   ]
  },
  {
   "cell_type": "markdown",
   "metadata": {},
   "source": [
    "F1 score is used in the case where we have skewed classes i.e one type of class examples more than the other type class examples."
   ]
  },
  {
   "cell_type": "markdown",
   "metadata": {},
   "source": [
    "When it comes to a classification problem, we can count on an AUC - ROC Curve. Especially at imbalanced dataset, it is one of the most important evaluation metrics for checking any classification model’s performance.It tells how much model is capable of distinguishing between classes."
   ]
  },
  {
   "cell_type": "markdown",
   "metadata": {},
   "source": [
    "As we can say, Logistic Regression with ADASYN algorithm is the best model when we looked at the AUC scores."
   ]
  }
 ],
 "metadata": {
  "kernelspec": {
   "display_name": "Python 3",
   "language": "python",
   "name": "python3"
  },
  "language_info": {
   "codemirror_mode": {
    "name": "ipython",
    "version": 3
   },
   "file_extension": ".py",
   "mimetype": "text/x-python",
   "name": "python",
   "nbconvert_exporter": "python",
   "pygments_lexer": "ipython3",
   "version": "3.7.4"
  }
 },
 "nbformat": 4,
 "nbformat_minor": 4
}
